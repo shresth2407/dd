{
 "cells": [
  {
   "cell_type": "code",
   "execution_count": 1,
   "id": "db68762f",
   "metadata": {},
   "outputs": [
    {
     "ename": "ConnectionRefusedError",
     "evalue": "[WinError 10061] No connection could be made because the target machine actively refused it",
     "output_type": "error",
     "traceback": [
      "\u001b[1;31m---------------------------------------------------------------------------\u001b[0m",
      "\u001b[1;31mConnectionRefusedError\u001b[0m                    Traceback (most recent call last)",
      "Cell \u001b[1;32mIn[1], line 8\u001b[0m\n\u001b[0;32m      6\u001b[0m \u001b[38;5;66;03m# Connect to the server\u001b[39;00m\n\u001b[0;32m      7\u001b[0m server_address \u001b[38;5;241m=\u001b[39m (\u001b[38;5;124m'\u001b[39m\u001b[38;5;124mlocalhost\u001b[39m\u001b[38;5;124m'\u001b[39m, \u001b[38;5;241m12345\u001b[39m)\n\u001b[1;32m----> 8\u001b[0m \u001b[43mclient_socket\u001b[49m\u001b[38;5;241;43m.\u001b[39;49m\u001b[43mconnect\u001b[49m\u001b[43m(\u001b[49m\u001b[43mserver_address\u001b[49m\u001b[43m)\u001b[49m\n\u001b[0;32m      9\u001b[0m \u001b[38;5;28mprint\u001b[39m(\u001b[38;5;124m'\u001b[39m\u001b[38;5;124mConnected to \u001b[39m\u001b[38;5;132;01m{}\u001b[39;00m\u001b[38;5;124m:\u001b[39m\u001b[38;5;132;01m{}\u001b[39;00m\u001b[38;5;124m'\u001b[39m\u001b[38;5;241m.\u001b[39mformat(\u001b[38;5;241m*\u001b[39mserver_address))\n\u001b[0;32m     11\u001b[0m \u001b[38;5;66;03m# Send data to the server\u001b[39;00m\n",
      "\u001b[1;31mConnectionRefusedError\u001b[0m: [WinError 10061] No connection could be made because the target machine actively refused it"
     ]
    }
   ],
   "source": [
    "import socket\n",
    "\n",
    "# Create a socket object\n",
    "client_socket = socket.socket(socket.AF_INET, socket.SOCK_STREAM)\n",
    "\n",
    "# Connect to the server\n",
    "server_address = ('localhost', 12345)\n",
    "client_socket.connect(server_address)\n",
    "print('Connected to {}:{}'.format(*server_address))\n",
    "\n",
    "# Send data to the server\n",
    "message = 'Hello, server!'\n",
    "client_socket.sendall(message.encode())\n",
    "print('Sent:', message)\n",
    "\n",
    "# Receive the echoed data\n",
    "data = client_socket.recv(1024)\n",
    "print('Received:', data.decode())\n",
    "\n",
    "# Close the connection\n",
    "client_socket.close()\n"
   ]
  },
  {
   "cell_type": "code",
   "execution_count": 2,
   "id": "97277cb7",
   "metadata": {},
   "outputs": [
    {
     "name": "stdout",
     "output_type": "stream",
     "text": [
      "Connected to localhost:12345\n",
      "Sent: Hello, server!\n",
      "Received: Hello, server!\n"
     ]
    }
   ],
   "source": [
    "import socket\n",
    "\n",
    "# Create a socket object\n",
    "client_socket = socket.socket(socket.AF_INET, socket.SOCK_STREAM)\n",
    "\n",
    "# Connect to the server\n",
    "server_address = ('localhost', 12345)\n",
    "client_socket.connect(server_address)\n",
    "print('Connected to {}:{}'.format(*server_address))\n",
    "\n",
    "# Send data to the server\n",
    "message = 'Hello, server!'\n",
    "client_socket.sendall(message.encode())\n",
    "print('Sent:', message)\n",
    "\n",
    "# Receive the echoed data\n",
    "data = client_socket.recv(1024)\n",
    "print('Received:', data.decode())\n",
    "\n",
    "# Close the connection\n",
    "client_socket.close()\n",
    "\n"
   ]
  },
  {
   "cell_type": "code",
   "execution_count": null,
   "id": "06a2c045",
   "metadata": {},
   "outputs": [],
   "source": [
    "jvhk\n"
   ]
  }
 ],
 "metadata": {
  "kernelspec": {
   "display_name": "Python 3 (ipykernel)",
   "language": "python",
   "name": "python3"
  },
  "language_info": {
   "codemirror_mode": {
    "name": "ipython",
    "version": 3
   },
   "file_extension": ".py",
   "mimetype": "text/x-python",
   "name": "python",
   "nbconvert_exporter": "python",
   "pygments_lexer": "ipython3",
   "version": "3.11.5"
  }
 },
 "nbformat": 4,
 "nbformat_minor": 5
}
